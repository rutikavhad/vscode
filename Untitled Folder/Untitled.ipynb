{
 "cells": [
  {
   "cell_type": "code",
   "execution_count": 45,
   "id": "a93a6721",
   "metadata": {},
   "outputs": [
    {
     "name": "stdout",
     "output_type": "stream",
     "text": [
      "hello\n"
     ]
    }
   ],
   "source": [
    "print(\"hello\")"
   ]
  },
  {
   "cell_type": "code",
   "execution_count": 47,
   "id": "960fadaa",
   "metadata": {},
   "outputs": [
    {
     "name": "stdout",
     "output_type": "stream",
     "text": [
      "142.250.192.110\n"
     ]
    }
   ],
   "source": [
    "import socket\n",
    "\n",
    "ip=socket.gethostbyname('google.com')\n",
    "print(ip)"
   ]
  },
  {
   "cell_type": "code",
   "execution_count": 50,
   "id": "0909cbe0",
   "metadata": {},
   "outputs": [
    {
     "ename": "IndentationError",
     "evalue": "expected an indented block after function definition on line 5 (1552780962.py, line 6)",
     "output_type": "error",
     "traceback": [
      "\u001b[0;36m  Cell \u001b[0;32mIn[50], line 6\u001b[0;36m\u001b[0m\n\u001b[0;31m    server = socket.socket(socket.AF_INET, socket.SOCK_STREAM)\u001b[0m\n\u001b[0m    ^\u001b[0m\n\u001b[0;31mIndentationError\u001b[0m\u001b[0;31m:\u001b[0m expected an indented block after function definition on line 5\n"
     ]
    }
   ],
   "source": [
    "import socket\n",
    "import threading\n",
    "IP = '0.0.0.0'\n",
    "PORT = 9998\n",
    "def main():\n",
    "server = socket.socket(socket.AF_INET, socket.SOCK_STREAM)\n",
    "server.bind((IP, PORT)) 1\n",
    "server.listen(5) 2\n",
    "print(f'[*] Listening on {IP}:{PORT}')\n",
    "while True:\n",
    "client, address = server.accept() 3\n",
    "print(f'[*] Accepted connection from {address[0]}:{address[1]}')\n",
    "client_handler = threading.Thread(target=handle_client, args=(client,))\n",
    "client_handler.start() 4\n",
    "def handle_client(client_socket): 5\n",
    "with client_socket as sock:\n",
    "request = sock.recv(1024)\n",
    "print(f'[*] Received: {request.decode(\"utf-8\")}')\n",
    "sock.send(b'ACK')\n",
    "if __name__ == '__main__':\n",
    "main()"
   ]
  },
  {
   "cell_type": "code",
   "execution_count": 51,
   "id": "cae8ca0d",
   "metadata": {},
   "outputs": [
    {
     "ename": "IndentationError",
     "evalue": "expected an indented block after function definition on line 8 (4141125364.py, line 9)",
     "output_type": "error",
     "traceback": [
      "\u001b[0;36m  Cell \u001b[0;32mIn[51], line 9\u001b[0;36m\u001b[0m\n\u001b[0;31m    cmd = cmd.strip()\u001b[0m\n\u001b[0m    ^\u001b[0m\n\u001b[0;31mIndentationError\u001b[0m\u001b[0;31m:\u001b[0m expected an indented block after function definition on line 8\n"
     ]
    }
   ],
   "source": [
    "import argparse\n",
    "import socket\n",
    "import shlex\n",
    "import subprocess\n",
    "import sys\n",
    "import textwrap\n",
    "import threading\n",
    "def execute(cmd):\n",
    "cmd = cmd.strip()\n",
    "if not cmd:\n",
    "return\n",
    "1 output = subprocess.check_output(shlex.split(cmd),\n",
    "stderr=subprocess.STDOUT)\n",
    "return output.decode()"
   ]
  }
 ],
 "metadata": {
  "kernelspec": {
   "display_name": "Python 3 (ipykernel)",
   "language": "python",
   "name": "python3"
  },
  "language_info": {
   "codemirror_mode": {
    "name": "ipython",
    "version": 3
   },
   "file_extension": ".py",
   "mimetype": "text/x-python",
   "name": "python",
   "nbconvert_exporter": "python",
   "pygments_lexer": "ipython3",
   "version": "3.13.7"
  }
 },
 "nbformat": 4,
 "nbformat_minor": 5
}
